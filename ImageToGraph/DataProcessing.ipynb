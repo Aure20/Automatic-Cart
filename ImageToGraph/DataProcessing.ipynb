{
 "cells": [
  {
   "cell_type": "code",
   "execution_count": 3,
   "metadata": {},
   "outputs": [],
   "source": [
    "import polars as pl\n",
    "import json"
   ]
  },
  {
   "cell_type": "code",
   "execution_count": null,
   "metadata": {},
   "outputs": [],
   "source": [
    "def longest_common_subsequence(str1, str2):\n",
    "    m, n = len(str1), len(str2)\n",
    "    dp = [[0] * (n + 1) for _ in range(m + 1)]\n",
    "\n",
    "    for i in range(1, m + 1):\n",
    "        for j in range(1, n + 1):\n",
    "            if str1[i - 1] == str2[j - 1]:\n",
    "                dp[i][j] = dp[i - 1][j - 1] + 1\n",
    "            else:\n",
    "                dp[i][j] = max(dp[i - 1][j], dp[i][j - 1])\n",
    "\n",
    "    return dp[m][n]\n",
    "\n",
    "def find_largest_common_subsequence(string, string_list):\n",
    "    \"\"\"\n",
    "    Given a string and a list of strings, returns the string\n",
    "    in the list with the largest common subsequence with the input string.\n",
    "\n",
    "    Args:\n",
    "    - string (str): The input string.\n",
    "    - string_list (list): List of strings to find the largest common subsequence.\n",
    "\n",
    "    Returns:\n",
    "    - str or None: The string with the largest common subsequence, or None if the list is empty.\n",
    "    \"\"\"\n",
    "    max_lcs_length = 0\n",
    "    result_string = None\n",
    "\n",
    "    for candidate_string in string_list:\n",
    "        lcs_length = longest_common_subsequence(string, candidate_string)\n",
    "        if lcs_length > max_lcs_length:\n",
    "            max_lcs_length = lcs_length\n",
    "            result_string = candidate_string\n",
    "\n",
    "    return result_string"
   ]
  },
  {
   "cell_type": "code",
   "execution_count": 26,
   "metadata": {},
   "outputs": [
    {
     "ename": "PanicException",
     "evalue": "python function failed KeyboardInterrupt: ",
     "output_type": "error",
     "traceback": [
      "\u001b[1;31m---------------------------------------------------------------------------\u001b[0m",
      "\u001b[1;31mPanicException\u001b[0m                            Traceback (most recent call last)",
      "File \u001b[1;32m~\\AppData\\Local\\Packages\\PythonSoftwareFoundation.Python.3.9_qbz5n2kfra8p0\\LocalCache\\local-packages\\Python39\\site-packages\\polars\\expr\\expr.py:4239\u001b[0m, in \u001b[0;36mExpr.map_elements.<locals>.wrap_f\u001b[1;34m(x)\u001b[0m\n\u001b[0;32m   4237\u001b[0m \u001b[39mwith\u001b[39;00m warnings\u001b[39m.\u001b[39mcatch_warnings():\n\u001b[0;32m   4238\u001b[0m     warnings\u001b[39m.\u001b[39msimplefilter(\u001b[39m\"\u001b[39m\u001b[39mignore\u001b[39m\u001b[39m\"\u001b[39m, PolarsInefficientMapWarning)\n\u001b[1;32m-> 4239\u001b[0m     \u001b[39mreturn\u001b[39;00m x\u001b[39m.\u001b[39;49mmap_elements(\n\u001b[0;32m   4240\u001b[0m         function, return_dtype\u001b[39m=\u001b[39;49mreturn_dtype, skip_nulls\u001b[39m=\u001b[39;49mskip_nulls\n\u001b[0;32m   4241\u001b[0m     )\n",
      "File \u001b[1;32m~\\AppData\\Local\\Packages\\PythonSoftwareFoundation.Python.3.9_qbz5n2kfra8p0\\LocalCache\\local-packages\\Python39\\site-packages\\polars\\series\\series.py:5113\u001b[0m, in \u001b[0;36mSeries.map_elements\u001b[1;34m(self, function, return_dtype, skip_nulls)\u001b[0m\n\u001b[0;32m   5109\u001b[0m     pl_return_dtype \u001b[39m=\u001b[39m py_type_to_dtype(return_dtype)\n\u001b[0;32m   5111\u001b[0m warn_on_inefficient_map(function, columns\u001b[39m=\u001b[39m[\u001b[39mself\u001b[39m\u001b[39m.\u001b[39mname], map_target\u001b[39m=\u001b[39m\u001b[39m\"\u001b[39m\u001b[39mseries\u001b[39m\u001b[39m\"\u001b[39m)\n\u001b[0;32m   5112\u001b[0m \u001b[39mreturn\u001b[39;00m \u001b[39mself\u001b[39m\u001b[39m.\u001b[39m_from_pyseries(\n\u001b[1;32m-> 5113\u001b[0m     \u001b[39mself\u001b[39;49m\u001b[39m.\u001b[39;49m_s\u001b[39m.\u001b[39;49mapply_lambda(function, pl_return_dtype, skip_nulls)\n\u001b[0;32m   5114\u001b[0m )\n",
      "\u001b[1;31mPanicException\u001b[0m: python function failed KeyboardInterrupt: "
     ]
    },
    {
     "ename": "PanicException",
     "evalue": "python function failed KeyboardInterrupt: ",
     "output_type": "error",
     "traceback": [
      "\u001b[1;31m---------------------------------------------------------------------------\u001b[0m",
      "\u001b[1;31mPanicException\u001b[0m                            Traceback (most recent call last)",
      "\u001b[1;32mc:\\Users\\aurel\\Downloads\\HS23\\CIR\\Automatic-Cart\\ImageToGraph\\DataProcessing.ipynb Cell 3\u001b[0m line \u001b[0;36m<cell line: 31>\u001b[1;34m()\u001b[0m\n\u001b[0;32m     <a href='vscode-notebook-cell:/c%3A/Users/aurel/Downloads/HS23/CIR/Automatic-Cart/ImageToGraph/DataProcessing.ipynb#W3sZmlsZQ%3D%3D?line=28'>29</a>\u001b[0m data \u001b[39m=\u001b[39m data\u001b[39m.\u001b[39mwith_columns(pl\u001b[39m.\u001b[39mcol(\u001b[39m'\u001b[39m\u001b[39mproduct_name\u001b[39m\u001b[39m'\u001b[39m)\u001b[39m.\u001b[39mmap_dict(transformed_dict)\u001b[39m.\u001b[39malias(\u001b[39m'\u001b[39m\u001b[39mcategory\u001b[39m\u001b[39m'\u001b[39m))\n\u001b[0;32m     <a href='vscode-notebook-cell:/c%3A/Users/aurel/Downloads/HS23/CIR/Automatic-Cart/ImageToGraph/DataProcessing.ipynb#W3sZmlsZQ%3D%3D?line=29'>30</a>\u001b[0m data \u001b[39m=\u001b[39m data\u001b[39m.\u001b[39munique(\u001b[39m'\u001b[39m\u001b[39mproduct_name\u001b[39m\u001b[39m'\u001b[39m)\n\u001b[1;32m---> <a href='vscode-notebook-cell:/c%3A/Users/aurel/Downloads/HS23/CIR/Automatic-Cart/ImageToGraph/DataProcessing.ipynb#W3sZmlsZQ%3D%3D?line=30'>31</a>\u001b[0m data \u001b[39m=\u001b[39m data\u001b[39m.\u001b[39;49mcollect()\n\u001b[0;32m     <a href='vscode-notebook-cell:/c%3A/Users/aurel/Downloads/HS23/CIR/Automatic-Cart/ImageToGraph/DataProcessing.ipynb#W3sZmlsZQ%3D%3D?line=31'>32</a>\u001b[0m data\u001b[39m.\u001b[39mwrite_csv(\u001b[39m'\u001b[39m\u001b[39mFood_Data.csv\u001b[39m\u001b[39m'\u001b[39m)\n",
      "File \u001b[1;32m~\\AppData\\Local\\Packages\\PythonSoftwareFoundation.Python.3.9_qbz5n2kfra8p0\\LocalCache\\local-packages\\Python39\\site-packages\\polars\\utils\\deprecation.py:100\u001b[0m, in \u001b[0;36mdeprecate_renamed_parameter.<locals>.decorate.<locals>.wrapper\u001b[1;34m(*args, **kwargs)\u001b[0m\n\u001b[0;32m     95\u001b[0m \u001b[39m@wraps\u001b[39m(function)\n\u001b[0;32m     96\u001b[0m \u001b[39mdef\u001b[39;00m \u001b[39mwrapper\u001b[39m(\u001b[39m*\u001b[39margs: P\u001b[39m.\u001b[39margs, \u001b[39m*\u001b[39m\u001b[39m*\u001b[39mkwargs: P\u001b[39m.\u001b[39mkwargs) \u001b[39m-\u001b[39m\u001b[39m>\u001b[39m T:\n\u001b[0;32m     97\u001b[0m     _rename_keyword_argument(\n\u001b[0;32m     98\u001b[0m         old_name, new_name, kwargs, function\u001b[39m.\u001b[39m\u001b[39m__name__\u001b[39m, version\n\u001b[0;32m     99\u001b[0m     )\n\u001b[1;32m--> 100\u001b[0m     \u001b[39mreturn\u001b[39;00m function(\u001b[39m*\u001b[39margs, \u001b[39m*\u001b[39m\u001b[39m*\u001b[39mkwargs)\n",
      "File \u001b[1;32m~\\AppData\\Local\\Packages\\PythonSoftwareFoundation.Python.3.9_qbz5n2kfra8p0\\LocalCache\\local-packages\\Python39\\site-packages\\polars\\lazyframe\\frame.py:1788\u001b[0m, in \u001b[0;36mLazyFrame.collect\u001b[1;34m(self, type_coercion, predicate_pushdown, projection_pushdown, simplify_expression, slice_pushdown, comm_subplan_elim, comm_subexpr_elim, no_optimization, streaming, _eager)\u001b[0m\n\u001b[0;32m   1775\u001b[0m     comm_subplan_elim \u001b[39m=\u001b[39m \u001b[39mFalse\u001b[39;00m\n\u001b[0;32m   1777\u001b[0m ldf \u001b[39m=\u001b[39m \u001b[39mself\u001b[39m\u001b[39m.\u001b[39m_ldf\u001b[39m.\u001b[39moptimization_toggle(\n\u001b[0;32m   1778\u001b[0m     type_coercion,\n\u001b[0;32m   1779\u001b[0m     predicate_pushdown,\n\u001b[1;32m   (...)\u001b[0m\n\u001b[0;32m   1786\u001b[0m     _eager,\n\u001b[0;32m   1787\u001b[0m )\n\u001b[1;32m-> 1788\u001b[0m \u001b[39mreturn\u001b[39;00m wrap_df(ldf\u001b[39m.\u001b[39;49mcollect())\n",
      "\u001b[1;31mPanicException\u001b[0m: python function failed KeyboardInterrupt: "
     ]
    }
   ],
   "source": [
    "data = pl.scan_csv('C:/Users/aurel/Downloads/HS23/CIR/Automatic-Cart/en.openfoodfacts.org.products.csv', separator='\\t')\n",
    "to_keep = ['product_name', 'nutriscore_score', 'image_small_url', 'energy-kcal_100g', 'fat_100g','carbohydrates_100g','proteins_100g']\n",
    "\n",
    "with open('C:/Users/aurel/Downloads/HS23/CIR/Automatic-Cart/ImageToGraph/supermarket_items.json') as f:\n",
    "    items = json.load(f)\n",
    "\n",
    "items_list =  []\n",
    "for i,product in enumerate(items.values()):\n",
    "    if i != 6: #Skip the tools\n",
    "        items_list.extend(product)\n",
    "\n",
    "transformed_dict = {}\n",
    "for category, items in items.items():\n",
    "    for item in items:\n",
    "        transformed_dict[item] = category\n",
    "\n",
    "data = data.select(to_keep)\n",
    "data = data.filter(pl.col('product_name').str.contains('|'.join(items_list)))\n",
    "data = data.filter(pl.col(\"proteins_100g\").is_not_null() &  pl.col(\"nutriscore_score\").is_not_null() &\n",
    "                   pl.col(\"image_small_url\").is_not_null() &  pl.col(\"energy-kcal_100g\").is_not_null() &\n",
    "                   pl.col(\"fat_100g\").is_not_null() &  pl.col(\"carbohydrates_100g\").is_not_null())\n",
    "data = data.with_columns(\n",
    "    (\n",
    "        pl.col('product_name').map_elements(\n",
    "            lambda x: find_largest_common_subsequence(x, items_list)\n",
    "        )\n",
    "    ).alias('product_name')\n",
    ")\n",
    "data = data.with_columns(pl.col('product_name').map_dict(transformed_dict).alias('category'))\n",
    "data = data.unique('product_name')\n",
    "data = data.collect()\n",
    "data.write_csv('Food_Data.csv')"
   ]
  },
  {
   "cell_type": "code",
   "execution_count": 1,
   "metadata": {},
   "outputs": [
    {
     "name": "stdout",
     "output_type": "stream",
     "text": [
      "Dropped Features: ['feature3']\n"
     ]
    }
   ],
   "source": [
    "from sklearn.feature_selection import SelectPercentile, mutual_info_classif\n",
    "import pandas as pd\n",
    "\n",
    "# Assuming 'train' is your DataFrame and 'state' is the target column\n",
    "# You may need to replace this with your actual column names and DataFrame\n",
    "train = pd.DataFrame({\n",
    "    'feature1': [1, 2, 3, 4],\n",
    "    'feature2': [5, 6, 7, 8],\n",
    "    'feature3': [9, 10, 11, 12],\n",
    "    'state': [0, 1, 0, 1]\n",
    "})\n",
    "\n",
    "# Drop the target column for feature selection\n",
    "X = train.drop('state', axis=1)\n",
    "y = train['state']\n",
    "\n",
    "# SelectPercentile with mutual_info_classif\n",
    "sel = SelectPercentile(mutual_info_classif, percentile=70)\n",
    "sel.fit(X, y)\n",
    "\n",
    "# Get the mask of selected features\n",
    "selected_features_mask = sel.get_support()\n",
    "\n",
    "# Get the names of the dropped features\n",
    "dropped_features = X.columns[~selected_features_mask]\n",
    "\n",
    "print(\"Dropped Features:\", dropped_features.tolist())"
   ]
  }
 ],
 "metadata": {
  "kernelspec": {
   "display_name": "Python 3",
   "language": "python",
   "name": "python3"
  },
  "language_info": {
   "codemirror_mode": {
    "name": "ipython",
    "version": 3
   },
   "file_extension": ".py",
   "mimetype": "text/x-python",
   "name": "python",
   "nbconvert_exporter": "python",
   "pygments_lexer": "ipython3",
   "version": "3.9.13"
  }
 },
 "nbformat": 4,
 "nbformat_minor": 2
}
